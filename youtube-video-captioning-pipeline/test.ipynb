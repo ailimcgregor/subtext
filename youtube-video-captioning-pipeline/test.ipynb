{
 "cells": [
  {
   "cell_type": "code",
   "execution_count": 71,
   "metadata": {},
   "outputs": [],
   "source": [
    "from pytube import YouTube\n",
    "import os\n",
    "import requests\n",
    "from pydub import AudioSegment\n",
    "import openai\n",
    "from typing import Final\n",
    "from dotenv import load_dotenv\n",
    "\n",
    "# STEP 0: load our token from somwhere safe\n",
    "load_dotenv()\n",
    "OPEN_API_TOKEN: Final[str] = os.getenv('OPEN_API_TOKEN')\n",
    "openai.api_key = OPEN_API_TOKEN\n"
   ]
  },
  {
   "cell_type": "code",
   "execution_count": 3,
   "metadata": {},
   "outputs": [
    {
     "data": {
      "text/plain": [
       "['__class__',\n",
       " '__delattr__',\n",
       " '__dict__',\n",
       " '__dir__',\n",
       " '__doc__',\n",
       " '__eq__',\n",
       " '__format__',\n",
       " '__ge__',\n",
       " '__getattribute__',\n",
       " '__gt__',\n",
       " '__hash__',\n",
       " '__init__',\n",
       " '__init_subclass__',\n",
       " '__le__',\n",
       " '__lt__',\n",
       " '__module__',\n",
       " '__ne__',\n",
       " '__new__',\n",
       " '__reduce__',\n",
       " '__reduce_ex__',\n",
       " '__repr__',\n",
       " '__setattr__',\n",
       " '__sizeof__',\n",
       " '__str__',\n",
       " '__subclasshook__',\n",
       " '__weakref__',\n",
       " 'age_restricted',\n",
       " 'author',\n",
       " 'bypass_age_gate',\n",
       " 'caption_tracks',\n",
       " 'captions',\n",
       " 'channel_id',\n",
       " 'channel_url',\n",
       " 'check_availability',\n",
       " 'description',\n",
       " 'embed_html',\n",
       " 'fmt_streams',\n",
       " 'from_id',\n",
       " 'initial_data',\n",
       " 'js',\n",
       " 'js_url',\n",
       " 'keywords',\n",
       " 'length',\n",
       " 'metadata',\n",
       " 'publish_date',\n",
       " 'rating',\n",
       " 'register_on_complete_callback',\n",
       " 'register_on_progress_callback',\n",
       " 'streaming_data',\n",
       " 'streams',\n",
       " 'thumbnail_url',\n",
       " 'title',\n",
       " 'vid_info',\n",
       " 'views',\n",
       " 'watch_html']"
      ]
     },
     "execution_count": 3,
     "metadata": {},
     "output_type": "execute_result"
    }
   ],
   "source": [
    "link = \"https://www.youtube.com/watch?v=IHQr0HCIN2w\""
   ]
  },
  {
   "cell_type": "code",
   "execution_count": 31,
   "metadata": {},
   "outputs": [],
   "source": [
    "def get_mp4_from_youtube_link(link):\n",
    "    youtube_object = YouTube(link)\n",
    "    print(youtube_object)\n",
    "    youtube_object.title\n",
    "    youtube_object.thumbnail_url\n",
    "    #yt.streams.filter(file_extension='mp4')\n",
    "    #save_video_path = \"G:/temp/youtube-videos/\"\n",
    "    output_file_name = youtube_object.title + \".mp4\"\n",
    "    #download in local file system\n",
    "    youtube_object.streams.filter(progressive=True, file_extension='mp4').order_by('resolution').desc().first().download(filename = output_file_name)\n",
    "    return output_file_name\n",
    "    \n",
    "\n",
    "#! consider temp file https://www.geeksforgeeks.org/python-tempfile-module/"
   ]
  },
  {
   "cell_type": "code",
   "execution_count": 64,
   "metadata": {},
   "outputs": [
    {
     "name": "stdout",
     "output_type": "stream",
     "text": [
      "<pytube.__main__.YouTube object: videoId=IHQr0HCIN2w>\n"
     ]
    }
   ],
   "source": [
    "#get video\n",
    "output_file_name = get_mp4_from_youtube_link(link)\n",
    "\n",
    "def does_file_exist(output_file_name):\n",
    "    return os.path.isfile(output_file_name)\n"
   ]
  },
  {
   "cell_type": "code",
   "execution_count": 77,
   "metadata": {},
   "outputs": [],
   "source": [
    "def get_audio_from_youtube_link(link):\n",
    "    youtube_object = YouTube(link)\n",
    "    print(youtube_object)\n",
    "    youtube_object.title\n",
    "    youtube_object.thumbnail_url\n",
    "    #download in local file system\n",
    "    output_file_name = youtube_object.title +\"_audio\" + \".\" + \"mp4\"\n",
    "    youtube_object.streams.filter(only_audio=True).first().download(filename = output_file_name) \n",
    "    #youtube_object.streams.filter(progressive=True, file_extension=extension).order_by('resolution').desc().first().download(filename = output_file_name)\n",
    "    return output_file_name\n",
    "\n",
    "#! consider temp file https://www.geeksforgeeks.org/python-tempfile-module/"
   ]
  },
  {
   "cell_type": "code",
   "execution_count": 78,
   "metadata": {},
   "outputs": [
    {
     "name": "stdout",
     "output_type": "stream",
     "text": [
      "<pytube.__main__.YouTube object: videoId=IHQr0HCIN2w>\n"
     ]
    },
    {
     "data": {
      "text/plain": [
       "True"
      ]
     },
     "execution_count": 78,
     "metadata": {},
     "output_type": "execute_result"
    }
   ],
   "source": [
    "output_file_name = get_audio_from_youtube_link(link)\n",
    "does_file_exist(output_file_name)"
   ]
  },
  {
   "cell_type": "code",
   "execution_count": 79,
   "metadata": {},
   "outputs": [],
   "source": [
    "def segment_and_calculate_volume(audio_file, segment_length_ms):\n",
    "    # Load the audio file\n",
    "    audio = AudioSegment.from_file(audio_file)\n",
    "\n",
    "    # Calculate the total number of segments\n",
    "    num_segments = len(audio) // segment_length_ms\n",
    "\n",
    "    # Initialize a list to store the speech volumes of each segment\n",
    "    segment_volumes = []\n",
    "\n",
    "    # Iterate over the audio and segment it\n",
    "    for i in range(num_segments):\n",
    "        start_time = i * segment_length_ms\n",
    "        end_time = (i + 1) * segment_length_ms\n",
    "        segment = audio[start_time:end_time]\n",
    "\n",
    "        # Extract just the speech portion (assuming it's in a certain range of frequencies)\n",
    "        speech_segment = segment.low_pass_filter(3000)\n",
    "\n",
    "        # Calculate the average volume level in decibels (dB)\n",
    "        speech_volume = speech_segment.dBFS\n",
    "\n",
    "        segment_volumes.append(speech_volume)\n",
    "\n",
    "    return segment_volumes\n"
   ]
  },
  {
   "cell_type": "code",
   "execution_count": 80,
   "metadata": {},
   "outputs": [],
   "source": [
    "\n",
    "def calculate_average_speech_volume(audio_file):\n",
    "    \"average audio volume\"\n",
    "    # Load the audio file\n",
    "    audio = AudioSegment.from_file(audio_file)\n",
    "\n",
    "    # Extract just the speech portion (assuming it's in a certain range of frequencies)\n",
    "    speech = audio.low_pass_filter(3000)\n",
    "\n",
    "    # Calculate the average volume level in decibels (dB)\n",
    "    speech_volume = speech.dBFS\n",
    "\n",
    "    return speech_volume\n"
   ]
  },
  {
   "cell_type": "code",
   "execution_count": 81,
   "metadata": {},
   "outputs": [
    {
     "name": "stdout",
     "output_type": "stream",
     "text": [
      "Avg file Speech volume (dB): -19.289763653230835\n",
      "Speech volumes of each segment (dB): [-18.50554206726807, -18.87016599770511, -17.733048987860155, -20.45658425833052, -23.215307620099786, -21.85063908384111, -21.778773471902856, -18.121379814180216, -21.643204995293843, -23.238367517639116, -26.798762431925404, -19.674312513663352, -22.75195031905927, -21.873630675055878, -20.807202631414224, -24.517219648342422, -20.476162829642632, -21.573028494558283, -19.08935758746965, -19.600584338070888, -22.079971856435606, -23.56380790418884, -20.775263840281465, -20.501400299130776, -20.442626534552325, -20.348304225453816, -20.353824333448998, -23.10470643328731, -23.512023038441615, -16.711359856937108, -17.46564601109545, -21.3101789237276, -15.912432974107663, -18.22663857535366, -20.27686025081777, -33.01877707802652, -22.150987896341654, -19.373211666569198, -24.811992298861057, -37.053842065562876, -12.209281077207091, -9.68244554397174, -47.89752007507736, -32.389504052013066, -21.933032887387284, -22.525677011903706, -23.79047958376503, -20.81302232318173, -20.775263840281465, -29.943312530663736, -16.630056084164114, -29.97668774805081, -25.77700059504721, -19.774461352901646, -19.430119849536226, -26.581174385284495, -21.18471559203458, -13.817371174524704, -14.943638370163395, -16.478528255831268]\n"
     ]
    }
   ],
   "source": [
    "audio_file = output_file_name #path to the audio file\n",
    "avg_speech_volume = calculate_average_speech_volume(audio_file)\n",
    "print(\"Avg file Speech volume (dB):\", avg_speech_volume)\n",
    "\n",
    "segment_length_ms = 5000  # Length of each segment in milliseconds (adjust as needed)\n",
    "segment_volumes = segment_and_calculate_volume(audio_file, segment_length_ms)\n",
    "print(\"Speech volumes of each segment (dB):\", segment_volumes)\n",
    "\n",
    "#median\n"
   ]
  },
  {
   "cell_type": "code",
   "execution_count": 87,
   "metadata": {},
   "outputs": [],
   "source": [
    "\n",
    "\n",
    "audio_file = open(output_file_name, \"rb\")\n",
    "\n",
    "transcript = openai.audio.transcriptions.create(\n",
    "  file=audio_file,\n",
    "  model=\"whisper-1\",\n",
    "  response_format=\"verbose_json\",\n",
    "  timestamp_granularities=[\"segment\"]\n",
    ")\n",
    "\n"
   ]
  },
  {
   "cell_type": "code",
   "execution_count": 86,
   "metadata": {},
   "outputs": [
    {
     "name": "stdout",
     "output_type": "stream",
     "text": [
      "[{'id': 0, 'seek': 0, 'start': 0.0, 'end': 7.0, 'text': ' Freeze! End of the line, Cortez!', 'tokens': [50364, 48096, 0, 6967, 295, 264, 1622, 11, 28522, 4371, 0, 50714], 'temperature': 0.0, 'avg_logprob': -0.3803545832633972, 'compression_ratio': 1.2627737522125244, 'no_speech_prob': 0.3153893053531647}, {'id': 1, 'seek': 0, 'start': 7.0, 'end': 8.0, 'text': ' Alright.', 'tokens': [50714, 2798, 13, 50764], 'temperature': 0.0, 'avg_logprob': -0.3803545832633972, 'compression_ratio': 1.2627737522125244, 'no_speech_prob': 0.3153893053531647}, {'id': 2, 'seek': 0, 'start': 13.0, 'end': 14.0, 'text': ' Here we go.', 'tokens': [51014, 1692, 321, 352, 13, 51064], 'temperature': 0.0, 'avg_logprob': -0.3803545832633972, 'compression_ratio': 1.2627737522125244, 'no_speech_prob': 0.3153893053531647}, {'id': 3, 'seek': 0, 'start': 17.0, 'end': 21.0, 'text': ' Well, well, well, boys. Looks like we got a Mexican standoff.', 'tokens': [51214, 1042, 11, 731, 11, 731, 11, 6347, 13, 10027, 411, 321, 658, 257, 16164, 1463, 4506, 13, 51414], 'temperature': 0.0, 'avg_logprob': -0.3803545832633972, 'compression_ratio': 1.2627737522125244, 'no_speech_prob': 0.3153893053531647}, {'id': 4, 'seek': 0, 'start': 21.0, 'end': 24.0, 'text': \" Guess again. We've got a sniper trained on your position.\", 'tokens': [51414, 17795, 797, 13, 492, 600, 658, 257, 32441, 8895, 322, 428, 2535, 13, 51564], 'temperature': 0.0, 'avg_logprob': -0.3803545832633972, 'compression_ratio': 1.2627737522125244, 'no_speech_prob': 0.3153893053531647}, {'id': 5, 'seek': 2400, 'start': 24.0, 'end': 31.0, 'text': \" Nice try. But I've had an unmanned drone on that sniper's ass this whole time.\", 'tokens': [50364, 5490, 853, 13, 583, 286, 600, 632, 364, 19334, 5943, 13852, 322, 300, 32441, 311, 1256, 341, 1379, 565, 13, 50714], 'temperature': 0.0, 'avg_logprob': -0.22525182366371155, 'compression_ratio': 1.6428571939468384, 'no_speech_prob': 0.20140434801578522}, {'id': 6, 'seek': 2400, 'start': 31.0, 'end': 34.0, 'text': ' You mean the unmanned drone our hacker just took over?', 'tokens': [50714, 509, 914, 264, 19334, 5943, 13852, 527, 38155, 445, 1890, 670, 30, 50864], 'temperature': 0.0, 'avg_logprob': -0.22525182366371155, 'compression_ratio': 1.6428571939468384, 'no_speech_prob': 0.20140434801578522}, {'id': 7, 'seek': 2400, 'start': 34.0, 'end': 37.0, 'text': ' You mean the hacker whose wife I just kidnapped?', 'tokens': [50864, 509, 914, 264, 38155, 6104, 3836, 286, 445, 29300, 30, 51014], 'temperature': 0.0, 'avg_logprob': -0.22525182366371155, 'compression_ratio': 1.6428571939468384, 'no_speech_prob': 0.20140434801578522}, {'id': 8, 'seek': 2400, 'start': 37.0, 'end': 41.0, 'text': \" You mean the hacker's wife, who just filed for divorce.\", 'tokens': [51014, 509, 914, 264, 38155, 311, 3836, 11, 567, 445, 18789, 337, 16052, 13, 51214], 'temperature': 0.0, 'avg_logprob': -0.22525182366371155, 'compression_ratio': 1.6428571939468384, 'no_speech_prob': 0.20140434801578522}, {'id': 9, 'seek': 2400, 'start': 41.0, 'end': 43.0, 'text': ' Bullshit! That marriage is rock solid.', 'tokens': [51214, 14131, 19186, 0, 663, 7194, 307, 3727, 5100, 13, 51314], 'temperature': 0.0, 'avg_logprob': -0.22525182366371155, 'compression_ratio': 1.6428571939468384, 'no_speech_prob': 0.20140434801578522}, {'id': 10, 'seek': 2400, 'start': 43.0, 'end': 46.0, 'text': \" I guarantee you it's not. I've been hitting that for six months.\", 'tokens': [51314, 286, 10815, 291, 309, 311, 406, 13, 286, 600, 668, 8850, 300, 337, 2309, 2493, 13, 51464], 'temperature': 0.0, 'avg_logprob': -0.22525182366371155, 'compression_ratio': 1.6428571939468384, 'no_speech_prob': 0.20140434801578522}, {'id': 11, 'seek': 2400, 'start': 46.0, 'end': 50.0, 'text': ' Talk about a threat, cowboy. Hear that? We got you covered, so drop it.', 'tokens': [51464, 8780, 466, 257, 4734, 11, 39174, 13, 30685, 300, 30, 492, 658, 291, 5343, 11, 370, 3270, 309, 13, 51664], 'temperature': 0.0, 'avg_logprob': -0.22525182366371155, 'compression_ratio': 1.6428571939468384, 'no_speech_prob': 0.20140434801578522}, {'id': 12, 'seek': 5000, 'start': 50.0, 'end': 55.0, 'text': ' Looks like you got me. But you forgot one thing.', 'tokens': [50364, 10027, 411, 291, 658, 385, 13, 583, 291, 5298, 472, 551, 13, 50614], 'temperature': 0.0, 'avg_logprob': -0.21449151635169983, 'compression_ratio': 1.4820512533187866, 'no_speech_prob': 0.0041327145881950855}, {'id': 13, 'seek': 5000, 'start': 56.0, 'end': 58.0, 'text': ' I always bring backup.', 'tokens': [50664, 286, 1009, 1565, 14807, 13, 50764], 'temperature': 0.0, 'avg_logprob': -0.21449151635169983, 'compression_ratio': 1.4820512533187866, 'no_speech_prob': 0.0041327145881950855}, {'id': 14, 'seek': 5000, 'start': 58.0, 'end': 61.0, 'text': ' You mean Chuck E. Cheese over here?', 'tokens': [50764, 509, 914, 21607, 462, 13, 23738, 670, 510, 30, 50914], 'temperature': 0.0, 'avg_logprob': -0.21449151635169983, 'compression_ratio': 1.4820512533187866, 'no_speech_prob': 0.0041327145881950855}, {'id': 15, 'seek': 5000, 'start': 61.0, 'end': 64.0, 'text': \" I didn't peg for a rat the day he entered the academy.\", 'tokens': [50914, 286, 994, 380, 17199, 337, 257, 5937, 264, 786, 415, 9065, 264, 25525, 13, 51064], 'temperature': 0.0, 'avg_logprob': -0.21449151635169983, 'compression_ratio': 1.4820512533187866, 'no_speech_prob': 0.0041327145881950855}, {'id': 16, 'seek': 5000, 'start': 64.0, 'end': 67.0, 'text': ' Boom. Second sniper.', 'tokens': [51064, 15523, 13, 5736, 32441, 13, 51214], 'temperature': 0.0, 'avg_logprob': -0.21449151635169983, 'compression_ratio': 1.4820512533187866, 'no_speech_prob': 0.0041327145881950855}, {'id': 17, 'seek': 5000, 'start': 67.0, 'end': 69.0, 'text': ' Oh, you knew all along?', 'tokens': [51214, 876, 11, 291, 2586, 439, 2051, 30, 51314], 'temperature': 0.0, 'avg_logprob': -0.21449151635169983, 'compression_ratio': 1.4820512533187866, 'no_speech_prob': 0.0041327145881950855}, {'id': 18, 'seek': 5000, 'start': 69.0, 'end': 70.0, 'text': ' Yeah.', 'tokens': [51314, 865, 13, 51364], 'temperature': 0.0, 'avg_logprob': -0.21449151635169983, 'compression_ratio': 1.4820512533187866, 'no_speech_prob': 0.0041327145881950855}, {'id': 19, 'seek': 5000, 'start': 70.0, 'end': 72.0, 'text': ' Well, I knew all along that you knew all along.', 'tokens': [51364, 1042, 11, 286, 2586, 439, 2051, 300, 291, 2586, 439, 2051, 13, 51464], 'temperature': 0.0, 'avg_logprob': -0.21449151635169983, 'compression_ratio': 1.4820512533187866, 'no_speech_prob': 0.0041327145881950855}, {'id': 20, 'seek': 5000, 'start': 72.0, 'end': 74.0, 'text': ' Did you just get here, son?', 'tokens': [51464, 2589, 291, 445, 483, 510, 11, 1872, 30, 51564], 'temperature': 0.0, 'avg_logprob': -0.21449151635169983, 'compression_ratio': 1.4820512533187866, 'no_speech_prob': 0.0041327145881950855}, {'id': 21, 'seek': 7400, 'start': 74.0, 'end': 80.0, 'text': ' I knew you knew I knew all along. All along. All along.', 'tokens': [50364, 286, 2586, 291, 2586, 286, 2586, 439, 2051, 13, 1057, 2051, 13, 1057, 2051, 13, 50664], 'temperature': 0.0, 'avg_logprob': -0.224272221326828, 'compression_ratio': 1.4732142686843872, 'no_speech_prob': 0.01384748239070177}, {'id': 22, 'seek': 7400, 'start': 80.0, 'end': 83.0, 'text': \" Well, it looks like we've got a real Mexican standoff here, boys.\", 'tokens': [50664, 1042, 11, 309, 1542, 411, 321, 600, 658, 257, 957, 16164, 1463, 4506, 510, 11, 6347, 13, 50814], 'temperature': 0.0, 'avg_logprob': -0.224272221326828, 'compression_ratio': 1.4732142686843872, 'no_speech_prob': 0.01384748239070177}, {'id': 23, 'seek': 7400, 'start': 83.0, 'end': 86.0, 'text': ' Woo! All this talk of double crosses is making me hungry.', 'tokens': [50814, 10468, 0, 1057, 341, 751, 295, 3834, 28467, 307, 1455, 385, 8067, 13, 50964], 'temperature': 0.0, 'avg_logprob': -0.224272221326828, 'compression_ratio': 1.4732142686843872, 'no_speech_prob': 0.01384748239070177}, {'id': 24, 'seek': 7400, 'start': 86.0, 'end': 89.0, 'text': ' For a slice of blueberry pie.', 'tokens': [50964, 1171, 257, 13153, 295, 48243, 1730, 13, 51114], 'temperature': 0.0, 'avg_logprob': -0.224272221326828, 'compression_ratio': 1.4732142686843872, 'no_speech_prob': 0.01384748239070177}, {'id': 25, 'seek': 7400, 'start': 96.0, 'end': 98.0, 'text': ' Special Agent Blueberries Johnson reporting for duty.', 'tokens': [51464, 11863, 27174, 8510, 15290, 9779, 10031, 337, 9776, 13, 51564], 'temperature': 0.0, 'avg_logprob': -0.224272221326828, 'compression_ratio': 1.4732142686843872, 'no_speech_prob': 0.01384748239070177}, {'id': 26, 'seek': 7400, 'start': 98.0, 'end': 100.0, 'text': ' You were a sleeper agent?', 'tokens': [51564, 509, 645, 257, 2817, 260, 9461, 30, 51664], 'temperature': 0.0, 'avg_logprob': -0.224272221326828, 'compression_ratio': 1.4732142686843872, 'no_speech_prob': 0.01384748239070177}, {'id': 27, 'seek': 7400, 'start': 100.0, 'end': 102.0, 'text': \" That's right. And my top secret mission?\", 'tokens': [51664, 663, 311, 558, 13, 400, 452, 1192, 4054, 4447, 30, 51764], 'temperature': 0.0, 'avg_logprob': -0.224272221326828, 'compression_ratio': 1.4732142686843872, 'no_speech_prob': 0.01384748239070177}, {'id': 28, 'seek': 10400, 'start': 104.0, 'end': 107.0, 'text': ' To investigate you for corruption. Sorry, sir.', 'tokens': [50364, 1407, 15013, 291, 337, 17959, 13, 4919, 11, 4735, 13, 50514], 'temperature': 0.0, 'avg_logprob': -0.2078780233860016, 'compression_ratio': 1.4220778942108154, 'no_speech_prob': 0.0010161622194573283}, {'id': 29, 'seek': 10400, 'start': 107.0, 'end': 109.0, 'text': ' Wait. What?', 'tokens': [50514, 3802, 13, 708, 30, 50614], 'temperature': 0.0, 'avg_logprob': -0.2078780233860016, 'compression_ratio': 1.4220778942108154, 'no_speech_prob': 0.0010161622194573283}, {'id': 30, 'seek': 10400, 'start': 110.0, 'end': 112.0, 'text': \" You're investigating me?\", 'tokens': [50664, 509, 434, 22858, 385, 30, 50764], 'temperature': 0.0, 'avg_logprob': -0.2078780233860016, 'compression_ratio': 1.4220778942108154, 'no_speech_prob': 0.0010161622194573283}, {'id': 31, 'seek': 10400, 'start': 112.0, 'end': 116.0, 'text': ' Who do you think you are, Blueberries? And who do you think...', 'tokens': [50764, 2102, 360, 291, 519, 291, 366, 11, 8510, 15290, 30, 400, 567, 360, 291, 519, 485, 50964], 'temperature': 0.0, 'avg_logprob': -0.2078780233860016, 'compression_ratio': 1.4220778942108154, 'no_speech_prob': 0.0010161622194573283}, {'id': 32, 'seek': 10400, 'start': 117.0, 'end': 118.0, 'text': ' I am.', 'tokens': [51014, 286, 669, 13, 51064], 'temperature': 0.0, 'avg_logprob': -0.2078780233860016, 'compression_ratio': 1.4220778942108154, 'no_speech_prob': 0.0010161622194573283}, {'id': 33, 'seek': 10400, 'start': 118.0, 'end': 119.0, 'text': ' What?', 'tokens': [51064, 708, 30, 51114], 'temperature': 0.0, 'avg_logprob': -0.2078780233860016, 'compression_ratio': 1.4220778942108154, 'no_speech_prob': 0.0010161622194573283}, {'id': 34, 'seek': 10400, 'start': 119.0, 'end': 122.0, 'text': \" I don't know. Why don't you ask?\", 'tokens': [51114, 286, 500, 380, 458, 13, 1545, 500, 380, 291, 1029, 30, 51264], 'temperature': 0.0, 'avg_logprob': -0.2078780233860016, 'compression_ratio': 1.4220778942108154, 'no_speech_prob': 0.0010161622194573283}, {'id': 35, 'seek': 10400, 'start': 124.0, 'end': 125.0, 'text': ' You.', 'tokens': [51364, 509, 13, 51414], 'temperature': 0.0, 'avg_logprob': -0.2078780233860016, 'compression_ratio': 1.4220778942108154, 'no_speech_prob': 0.0010161622194573283}, {'id': 36, 'seek': 10400, 'start': 125.0, 'end': 127.0, 'text': \" No! That's impossible!\", 'tokens': [51414, 883, 0, 663, 311, 6243, 0, 51514], 'temperature': 0.0, 'avg_logprob': -0.2078780233860016, 'compression_ratio': 1.4220778942108154, 'no_speech_prob': 0.0010161622194573283}, {'id': 37, 'seek': 12700, 'start': 128.0, 'end': 131.0, 'text': ' Look at you two fools.', 'tokens': [50414, 2053, 412, 291, 732, 38625, 13, 50564], 'temperature': 0.0, 'avg_logprob': -0.3007027804851532, 'compression_ratio': 1.6616915464401245, 'no_speech_prob': 0.0030750168953090906}, {'id': 38, 'seek': 12700, 'start': 131.0, 'end': 134.0, 'text': ' Playing your cat and mouse games.', 'tokens': [50564, 24801, 428, 3857, 293, 9719, 2813, 13, 50714], 'temperature': 0.0, 'avg_logprob': -0.3007027804851532, 'compression_ratio': 1.6616915464401245, 'no_speech_prob': 0.0030750168953090906}, {'id': 39, 'seek': 12700, 'start': 134.0, 'end': 139.0, 'text': ' When the truth has been in front of your faces the entire time.', 'tokens': [50714, 1133, 264, 3494, 575, 668, 294, 1868, 295, 428, 8475, 264, 2302, 565, 13, 50964], 'temperature': 0.0, 'avg_logprob': -0.3007027804851532, 'compression_ratio': 1.6616915464401245, 'no_speech_prob': 0.0030750168953090906}, {'id': 40, 'seek': 12700, 'start': 139.0, 'end': 141.0, 'text': ' And behind mine.', 'tokens': [50964, 400, 2261, 3892, 13, 51064], 'temperature': 0.0, 'avg_logprob': -0.3007027804851532, 'compression_ratio': 1.6616915464401245, 'no_speech_prob': 0.0030750168953090906}, {'id': 41, 'seek': 12700, 'start': 143.0, 'end': 145.0, 'text': ' Whoa! Whoa! Whoa!', 'tokens': [51164, 7521, 0, 7521, 0, 7521, 0, 51264], 'temperature': 0.0, 'avg_logprob': -0.3007027804851532, 'compression_ratio': 1.6616915464401245, 'no_speech_prob': 0.0030750168953090906}, {'id': 42, 'seek': 12700, 'start': 145.0, 'end': 147.0, 'text': ' Whoa! Whoa! Whoa!', 'tokens': [51264, 7521, 0, 7521, 0, 7521, 0, 51364], 'temperature': 0.0, 'avg_logprob': -0.3007027804851532, 'compression_ratio': 1.6616915464401245, 'no_speech_prob': 0.0030750168953090906}, {'id': 43, 'seek': 12700, 'start': 147.0, 'end': 148.0, 'text': ' What happened? What?', 'tokens': [51364, 708, 2011, 30, 708, 30, 51414], 'temperature': 0.0, 'avg_logprob': -0.3007027804851532, 'compression_ratio': 1.6616915464401245, 'no_speech_prob': 0.0030750168953090906}, {'id': 44, 'seek': 12700, 'start': 148.0, 'end': 149.0, 'text': ' You were a gun for a second!', 'tokens': [51414, 509, 645, 257, 3874, 337, 257, 1150, 0, 51464], 'temperature': 0.0, 'avg_logprob': -0.3007027804851532, 'compression_ratio': 1.6616915464401245, 'no_speech_prob': 0.0030750168953090906}, {'id': 45, 'seek': 12700, 'start': 149.0, 'end': 151.0, 'text': \" What? No, no, no, no, no, no, no. I'm not a gun.\", 'tokens': [51464, 708, 30, 883, 11, 572, 11, 572, 11, 572, 11, 572, 11, 572, 11, 572, 13, 286, 478, 406, 257, 3874, 13, 51564], 'temperature': 0.0, 'avg_logprob': -0.3007027804851532, 'compression_ratio': 1.6616915464401245, 'no_speech_prob': 0.0030750168953090906}, {'id': 46, 'seek': 12700, 'start': 151.0, 'end': 152.0, 'text': \" I don't know what you're talking about.\", 'tokens': [51564, 286, 500, 380, 458, 437, 291, 434, 1417, 466, 13, 51614], 'temperature': 0.0, 'avg_logprob': -0.3007027804851532, 'compression_ratio': 1.6616915464401245, 'no_speech_prob': 0.0030750168953090906}, {'id': 47, 'seek': 12700, 'start': 152.0, 'end': 154.0, 'text': ' No, definitely a gun.', 'tokens': [51614, 883, 11, 2138, 257, 3874, 13, 51714], 'temperature': 0.0, 'avg_logprob': -0.3007027804851532, 'compression_ratio': 1.6616915464401245, 'no_speech_prob': 0.0030750168953090906}, {'id': 48, 'seek': 15400, 'start': 154.0, 'end': 156.0, 'text': \" What? No, no, no, no, no, no, no. I'm not a gun.\", 'tokens': [50364, 708, 30, 883, 11, 572, 11, 572, 11, 572, 11, 572, 11, 572, 11, 572, 13, 286, 478, 406, 257, 3874, 13, 50464], 'temperature': 0.0, 'avg_logprob': -0.20623774826526642, 'compression_ratio': 1.8266667127609253, 'no_speech_prob': 0.2172228842973709}, {'id': 49, 'seek': 15400, 'start': 156.0, 'end': 157.0, 'text': \" I don't know what you're talking about.\", 'tokens': [50464, 286, 500, 380, 458, 437, 291, 434, 1417, 466, 13, 50514], 'temperature': 0.0, 'avg_logprob': -0.20623774826526642, 'compression_ratio': 1.8266667127609253, 'no_speech_prob': 0.2172228842973709}, {'id': 50, 'seek': 15400, 'start': 157.0, 'end': 158.0, 'text': ' No, definitely a gun for a second.', 'tokens': [50514, 883, 11, 2138, 257, 3874, 337, 257, 1150, 13, 50564], 'temperature': 0.0, 'avg_logprob': -0.20623774826526642, 'compression_ratio': 1.8266667127609253, 'no_speech_prob': 0.2172228842973709}, {'id': 51, 'seek': 15400, 'start': 158.0, 'end': 160.0, 'text': \" I am not a gun. I'm a human being.\", 'tokens': [50564, 286, 669, 406, 257, 3874, 13, 286, 478, 257, 1952, 885, 13, 50664], 'temperature': 0.0, 'avg_logprob': -0.20623774826526642, 'compression_ratio': 1.8266667127609253, 'no_speech_prob': 0.2172228842973709}, {'id': 52, 'seek': 15400, 'start': 160.0, 'end': 162.0, 'text': \" Well, you're crying like a little girl.\", 'tokens': [50664, 1042, 11, 291, 434, 8554, 411, 257, 707, 2013, 13, 50764], 'temperature': 0.0, 'avg_logprob': -0.20623774826526642, 'compression_ratio': 1.8266667127609253, 'no_speech_prob': 0.2172228842973709}, {'id': 53, 'seek': 15400, 'start': 162.0, 'end': 164.0, 'text': \" Screw you guys! I'm killing everyone!\", 'tokens': [50764, 42630, 291, 1074, 0, 286, 478, 8011, 1518, 0, 50864], 'temperature': 0.0, 'avg_logprob': -0.20623774826526642, 'compression_ratio': 1.8266667127609253, 'no_speech_prob': 0.2172228842973709}, {'id': 54, 'seek': 15400, 'start': 164.0, 'end': 165.0, 'text': ' Whoa! Whoa! Whoa! Stop! Stop! Stop!', 'tokens': [50864, 7521, 0, 7521, 0, 7521, 0, 5535, 0, 5535, 0, 5535, 0, 50914], 'temperature': 0.0, 'avg_logprob': -0.20623774826526642, 'compression_ratio': 1.8266667127609253, 'no_speech_prob': 0.2172228842973709}, {'id': 55, 'seek': 15400, 'start': 165.0, 'end': 167.0, 'text': ' All right. Slow down. Slow down, guys.', 'tokens': [50914, 1057, 558, 13, 17703, 760, 13, 17703, 760, 11, 1074, 13, 51014], 'temperature': 0.0, 'avg_logprob': -0.20623774826526642, 'compression_ratio': 1.8266667127609253, 'no_speech_prob': 0.2172228842973709}, {'id': 56, 'seek': 15400, 'start': 167.0, 'end': 169.0, 'text': \" All right. Listen. Let's just take a moment to figure out\", 'tokens': [51014, 1057, 558, 13, 7501, 13, 961, 311, 445, 747, 257, 1623, 281, 2573, 484, 51114], 'temperature': 0.0, 'avg_logprob': -0.20623774826526642, 'compression_ratio': 1.8266667127609253, 'no_speech_prob': 0.2172228842973709}, {'id': 57, 'seek': 15400, 'start': 169.0, 'end': 172.0, 'text': \" who's double-crossing themselves while dressed as each other.\", 'tokens': [51114, 567, 311, 3834, 12, 35418, 278, 2969, 1339, 12386, 382, 1184, 661, 13, 51264], 'temperature': 0.0, 'avg_logprob': -0.20623774826526642, 'compression_ratio': 1.8266667127609253, 'no_speech_prob': 0.2172228842973709}, {'id': 58, 'seek': 15400, 'start': 172.0, 'end': 175.0, 'text': ' Okay? Does that sound good? Sound good?', 'tokens': [51264, 1033, 30, 4402, 300, 1626, 665, 30, 14673, 665, 30, 51414], 'temperature': 0.0, 'avg_logprob': -0.20623774826526642, 'compression_ratio': 1.8266667127609253, 'no_speech_prob': 0.2172228842973709}, {'id': 59, 'seek': 15400, 'start': 175.0, 'end': 178.0, 'text': ' All right. Okay. All right.', 'tokens': [51414, 1057, 558, 13, 1033, 13, 1057, 558, 13, 51564], 'temperature': 0.0, 'avg_logprob': -0.20623774826526642, 'compression_ratio': 1.8266667127609253, 'no_speech_prob': 0.2172228842973709}, {'id': 60, 'seek': 15400, 'start': 180.0, 'end': 183.0, 'text': ' Okay. So then you became yourself dressed as me.', 'tokens': [51664, 1033, 13, 407, 550, 291, 3062, 1803, 12386, 382, 385, 13, 51814], 'temperature': 0.0, 'avg_logprob': -0.20623774826526642, 'compression_ratio': 1.8266667127609253, 'no_speech_prob': 0.2172228842973709}, {'id': 61, 'seek': 18300, 'start': 183.0, 'end': 185.0, 'text': ' Right. And then this asshole turned into a gun.', 'tokens': [50364, 1779, 13, 400, 550, 341, 28599, 3574, 666, 257, 3874, 13, 50464], 'temperature': 0.0, 'avg_logprob': -0.24341630935668945, 'compression_ratio': 1.4233129024505615, 'no_speech_prob': 0.009092088788747787}, {'id': 62, 'seek': 18300, 'start': 185.0, 'end': 186.0, 'text': ' Oh, you shut your mouth.', 'tokens': [50464, 876, 11, 291, 5309, 428, 4525, 13, 50514], 'temperature': 0.0, 'avg_logprob': -0.24341630935668945, 'compression_ratio': 1.4233129024505615, 'no_speech_prob': 0.009092088788747787}, {'id': 63, 'seek': 18300, 'start': 186.0, 'end': 188.0, 'text': ' You shut your mouth, you dirty guy.', 'tokens': [50514, 509, 5309, 428, 4525, 11, 291, 9360, 2146, 13, 50614], 'temperature': 0.0, 'avg_logprob': -0.24341630935668945, 'compression_ratio': 1.4233129024505615, 'no_speech_prob': 0.009092088788747787}, {'id': 64, 'seek': 18300, 'start': 188.0, 'end': 189.0, 'text': ' How dare you!', 'tokens': [50614, 1012, 8955, 291, 0, 50664], 'temperature': 0.0, 'avg_logprob': -0.24341630935668945, 'compression_ratio': 1.4233129024505615, 'no_speech_prob': 0.009092088788747787}, {'id': 65, 'seek': 18300, 'start': 189.0, 'end': 190.0, 'text': ' Guys, shut up, okay?', 'tokens': [50664, 7855, 11, 5309, 493, 11, 1392, 30, 50714], 'temperature': 0.0, 'avg_logprob': -0.24341630935668945, 'compression_ratio': 1.4233129024505615, 'no_speech_prob': 0.009092088788747787}, {'id': 66, 'seek': 18300, 'start': 190.0, 'end': 191.0, 'text': ' Can we just agree to go with the plan here?', 'tokens': [50714, 1664, 321, 445, 3986, 281, 352, 365, 264, 1393, 510, 30, 50764], 'temperature': 0.0, 'avg_logprob': -0.24341630935668945, 'compression_ratio': 1.4233129024505615, 'no_speech_prob': 0.009092088788747787}, {'id': 67, 'seek': 18300, 'start': 191.0, 'end': 192.0, 'text': ' Yeah.', 'tokens': [50764, 865, 13, 50814], 'temperature': 0.0, 'avg_logprob': -0.24341630935668945, 'compression_ratio': 1.4233129024505615, 'no_speech_prob': 0.009092088788747787}, {'id': 68, 'seek': 18300, 'start': 192.0, 'end': 193.0, 'text': \" I'm good with that.\", 'tokens': [50814, 286, 478, 665, 365, 300, 13, 50864], 'temperature': 0.0, 'avg_logprob': -0.24341630935668945, 'compression_ratio': 1.4233129024505615, 'no_speech_prob': 0.009092088788747787}, {'id': 69, 'seek': 18300, 'start': 193.0, 'end': 194.0, 'text': \" Yeah, let's tango.\", 'tokens': [50864, 865, 11, 718, 311, 10266, 78, 13, 50914], 'temperature': 0.0, 'avg_logprob': -0.24341630935668945, 'compression_ratio': 1.4233129024505615, 'no_speech_prob': 0.009092088788747787}, {'id': 70, 'seek': 21300, 'start': 213.0, 'end': 227.0, 'text': ' I won. I won!', 'tokens': [50364, 286, 1582, 13, 286, 1582, 0, 51064], 'temperature': 0.20000000298023224, 'avg_logprob': -0.24745212495326996, 'compression_ratio': 1.3859648704528809, 'no_speech_prob': 0.013415430672466755}, {'id': 71, 'seek': 21300, 'start': 227.0, 'end': 229.0, 'text': ' I... No.', 'tokens': [51064, 286, 485, 883, 13, 51164], 'temperature': 0.20000000298023224, 'avg_logprob': -0.24745212495326996, 'compression_ratio': 1.3859648704528809, 'no_speech_prob': 0.013415430672466755}, {'id': 72, 'seek': 21300, 'start': 229.0, 'end': 231.0, 'text': \" I didn't want to believe it.\", 'tokens': [51164, 286, 994, 380, 528, 281, 1697, 309, 13, 51264], 'temperature': 0.20000000298023224, 'avg_logprob': -0.24745212495326996, 'compression_ratio': 1.3859648704528809, 'no_speech_prob': 0.013415430672466755}, {'id': 73, 'seek': 21300, 'start': 233.0, 'end': 234.0, 'text': \" You can't be.\", 'tokens': [51364, 509, 393, 380, 312, 13, 51414], 'temperature': 0.20000000298023224, 'avg_logprob': -0.24745212495326996, 'compression_ratio': 1.3859648704528809, 'no_speech_prob': 0.013415430672466755}, {'id': 74, 'seek': 21300, 'start': 234.0, 'end': 236.0, 'text': \" It can't be true!\", 'tokens': [51414, 467, 393, 380, 312, 2074, 0, 51514], 'temperature': 0.20000000298023224, 'avg_logprob': -0.24745212495326996, 'compression_ratio': 1.3859648704528809, 'no_speech_prob': 0.013415430672466755}, {'id': 75, 'seek': 21300, 'start': 236.0, 'end': 238.0, 'text': \" You can't be a gun!\", 'tokens': [51514, 509, 393, 380, 312, 257, 3874, 0, 51614], 'temperature': 0.20000000298023224, 'avg_logprob': -0.24745212495326996, 'compression_ratio': 1.3859648704528809, 'no_speech_prob': 0.013415430672466755}, {'id': 76, 'seek': 21300, 'start': 238.0, 'end': 240.0, 'text': \" You were at my daughter's wedding.\", 'tokens': [51614, 509, 645, 412, 452, 4653, 311, 8523, 13, 51714], 'temperature': 0.20000000298023224, 'avg_logprob': -0.24745212495326996, 'compression_ratio': 1.3859648704528809, 'no_speech_prob': 0.013415430672466755}, {'id': 77, 'seek': 21300, 'start': 240.0, 'end': 242.0, 'text': ' You son of a bitch!', 'tokens': [51714, 509, 1872, 295, 257, 11960, 0, 51814], 'temperature': 0.20000000298023224, 'avg_logprob': -0.24745212495326996, 'compression_ratio': 1.3859648704528809, 'no_speech_prob': 0.013415430672466755}, {'id': 78, 'seek': 24200, 'start': 242.0, 'end': 244.0, 'text': ' I trusted you!', 'tokens': [50364, 286, 16034, 291, 0, 50464], 'temperature': 0.0, 'avg_logprob': -0.20777957141399384, 'compression_ratio': 1.3333333730697632, 'no_speech_prob': 0.0002694486465770751}, {'id': 79, 'seek': 24200, 'start': 245.0, 'end': 247.0, 'text': ' Fine.', 'tokens': [50514, 12024, 13, 50614], 'temperature': 0.0, 'avg_logprob': -0.20777957141399384, 'compression_ratio': 1.3333333730697632, 'no_speech_prob': 0.0002694486465770751}, {'id': 80, 'seek': 24200, 'start': 247.0, 'end': 250.0, 'text': \" But there's something you should know about me.\", 'tokens': [50614, 583, 456, 311, 746, 291, 820, 458, 466, 385, 13, 50764], 'temperature': 0.0, 'avg_logprob': -0.20777957141399384, 'compression_ratio': 1.3333333730697632, 'no_speech_prob': 0.0002694486465770751}, {'id': 81, 'seek': 24200, 'start': 250.0, 'end': 253.0, 'text': \" I'm actually a blueberry...\", 'tokens': [50764, 286, 478, 767, 257, 48243, 485, 50914], 'temperature': 0.0, 'avg_logprob': -0.20777957141399384, 'compression_ratio': 1.3333333730697632, 'no_speech_prob': 0.0002694486465770751}, {'id': 82, 'seek': 24200, 'start': 262.0, 'end': 264.0, 'text': ' A little hell of a crime scene.', 'tokens': [51364, 316, 707, 4921, 295, 257, 7206, 4145, 13, 51464], 'temperature': 0.0, 'avg_logprob': -0.20777957141399384, 'compression_ratio': 1.3333333730697632, 'no_speech_prob': 0.0002694486465770751}, {'id': 83, 'seek': 24200, 'start': 264.0, 'end': 266.0, 'text': \" You're the genius. What's your take?\", 'tokens': [51464, 509, 434, 264, 14017, 13, 708, 311, 428, 747, 30, 51564], 'temperature': 0.0, 'avg_logprob': -0.20777957141399384, 'compression_ratio': 1.3333333730697632, 'no_speech_prob': 0.0002694486465770751}, {'id': 84, 'seek': 24200, 'start': 266.0, 'end': 269.0, 'text': ' The way I see it, this young Asian gentleman over here', 'tokens': [51564, 440, 636, 286, 536, 309, 11, 341, 2037, 10645, 15761, 670, 510, 51714], 'temperature': 0.0, 'avg_logprob': -0.20777957141399384, 'compression_ratio': 1.3333333730697632, 'no_speech_prob': 0.0002694486465770751}, {'id': 85, 'seek': 26900, 'start': 269.0, 'end': 271.0, 'text': ' walked into this alleyway, had some blueberry pie,', 'tokens': [50364, 7628, 666, 341, 26660, 676, 11, 632, 512, 48243, 1730, 11, 50464], 'temperature': 0.0, 'avg_logprob': -0.2362624853849411, 'compression_ratio': 1.3732393980026245, 'no_speech_prob': 0.021273266524076462}, {'id': 86, 'seek': 26900, 'start': 271.0, 'end': 273.0, 'text': ' and then killed himself.', 'tokens': [50464, 293, 550, 4652, 3647, 13, 50564], 'temperature': 0.0, 'avg_logprob': -0.2362624853849411, 'compression_ratio': 1.3732393980026245, 'no_speech_prob': 0.021273266524076462}, {'id': 87, 'seek': 26900, 'start': 273.0, 'end': 275.0, 'text': ' Then he put the gun way over there', 'tokens': [50564, 1396, 415, 829, 264, 3874, 636, 670, 456, 50664], 'temperature': 0.0, 'avg_logprob': -0.2362624853849411, 'compression_ratio': 1.3732393980026245, 'no_speech_prob': 0.021273266524076462}, {'id': 88, 'seek': 26900, 'start': 275.0, 'end': 277.0, 'text': ' to make it look like the gun killed the pie.', 'tokens': [50664, 281, 652, 309, 574, 411, 264, 3874, 4652, 264, 1730, 13, 50764], 'temperature': 0.0, 'avg_logprob': -0.2362624853849411, 'compression_ratio': 1.3732393980026245, 'no_speech_prob': 0.021273266524076462}, {'id': 89, 'seek': 26900, 'start': 279.0, 'end': 283.0, 'text': ' Just another wild night in Wizard City.', 'tokens': [50864, 1449, 1071, 4868, 1818, 294, 37449, 4392, 13, 51064], 'temperature': 0.0, 'avg_logprob': -0.2362624853849411, 'compression_ratio': 1.3732393980026245, 'no_speech_prob': 0.021273266524076462}, {'id': 90, 'seek': 29900, 'start': 299.0, 'end': 303.0, 'text': ' WIZARD CITY', 'tokens': [50364, 343, 24374, 13259, 383, 28853, 50564], 'temperature': 0.0, 'avg_logprob': -0.7355247139930725, 'compression_ratio': 0.5789473652839661, 'no_speech_prob': 0.9840131998062134}]\n"
     ]
    }
   ],
   "source": [
    "print(transcript.segments)\n"
   ]
  },
  {
   "cell_type": "code",
   "execution_count": null,
   "metadata": {},
   "outputs": [
    {
     "name": "stdout",
     "output_type": "stream",
     "text": [
      "True\n"
     ]
    }
   ],
   "source": [
    "#some code for emotion from hume\n",
    "# url = \"https://api.hume.ai/v0/batch/jobs\"\n",
    "\n",
    "# payload = \"{\\\"models\\\":{\\\"face\\\":{\\\"fps_pred\\\":3,\\\"prob_threshold\\\":0.99,\\\"identify_faces\\\":false,\\\"min_face_size\\\":60,\\\"save_faces\\\":false},\\\"prosody\\\":{\\\"granularity\\\":\\\"utterance\\\",\\\"window\\\":{\\\"length\\\":4,\\\"step\\\":1}},\\\"language\\\":{\\\"granularity\\\":\\\"word\\\"}},\\\"transcription\\\":{\\\"language\\\":null,\\\"identify_speakers\\\":false,\\\"confidence_threshold\\\":0.5},\\\"notify\\\":false}\"\n",
    "# headers = {\n",
    "#     \"accept\": \"application/json; charset=utf-8\",\n",
    "#     \"content-type\": \"application/json; charset=utf-8\",\n",
    "#     \"X-Hume-Api-Key\": \"YOUR API KEY HERE\"\n",
    "# }\n",
    "\n",
    "# response = requests.post(url, data=payload, headers=headers)\n",
    "\n",
    "# print(response.text)"
   ]
  },
  {
   "cell_type": "markdown",
   "metadata": {},
   "source": [
    "1. get youtube mp4\n",
    "2. get subtitles - enhanced input\n",
    "3. convert youtube to anime\n",
    "4. maybe black and white it\n",
    "5. get screenshots every 5 seconds + subtitle for timestamp\n",
    "6. put subtitles onto screenshot, in speechbubble? to the right person? (can hard code it, like stage it - switch sides whenever person speaking)\n",
    "7. format into comic panels\n",
    "8. compile publish as pdf\n",
    "\n",
    "video - popular"
   ]
  },
  {
   "cell_type": "markdown",
   "metadata": {},
   "source": []
  }
 ],
 "metadata": {
  "kernelspec": {
   "display_name": "subtext-treehack",
   "language": "python",
   "name": "python3"
  },
  "language_info": {
   "codemirror_mode": {
    "name": "ipython",
    "version": 3
   },
   "file_extension": ".py",
   "mimetype": "text/x-python",
   "name": "python",
   "nbconvert_exporter": "python",
   "pygments_lexer": "ipython3",
   "version": "3.9.18"
  }
 },
 "nbformat": 4,
 "nbformat_minor": 2
}
