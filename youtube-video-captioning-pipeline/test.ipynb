{
 "cells": [
  {
   "cell_type": "code",
   "execution_count": 56,
   "metadata": {},
   "outputs": [],
   "source": [
    "from pytube import YouTube\n",
    "import os\n",
    "import requests\n",
    "from pydub import AudioSegment\n"
   ]
  },
  {
   "cell_type": "code",
   "execution_count": 3,
   "metadata": {},
   "outputs": [
    {
     "data": {
      "text/plain": [
       "['__class__',\n",
       " '__delattr__',\n",
       " '__dict__',\n",
       " '__dir__',\n",
       " '__doc__',\n",
       " '__eq__',\n",
       " '__format__',\n",
       " '__ge__',\n",
       " '__getattribute__',\n",
       " '__gt__',\n",
       " '__hash__',\n",
       " '__init__',\n",
       " '__init_subclass__',\n",
       " '__le__',\n",
       " '__lt__',\n",
       " '__module__',\n",
       " '__ne__',\n",
       " '__new__',\n",
       " '__reduce__',\n",
       " '__reduce_ex__',\n",
       " '__repr__',\n",
       " '__setattr__',\n",
       " '__sizeof__',\n",
       " '__str__',\n",
       " '__subclasshook__',\n",
       " '__weakref__',\n",
       " 'age_restricted',\n",
       " 'author',\n",
       " 'bypass_age_gate',\n",
       " 'caption_tracks',\n",
       " 'captions',\n",
       " 'channel_id',\n",
       " 'channel_url',\n",
       " 'check_availability',\n",
       " 'description',\n",
       " 'embed_html',\n",
       " 'fmt_streams',\n",
       " 'from_id',\n",
       " 'initial_data',\n",
       " 'js',\n",
       " 'js_url',\n",
       " 'keywords',\n",
       " 'length',\n",
       " 'metadata',\n",
       " 'publish_date',\n",
       " 'rating',\n",
       " 'register_on_complete_callback',\n",
       " 'register_on_progress_callback',\n",
       " 'streaming_data',\n",
       " 'streams',\n",
       " 'thumbnail_url',\n",
       " 'title',\n",
       " 'vid_info',\n",
       " 'views',\n",
       " 'watch_html']"
      ]
     },
     "execution_count": 3,
     "metadata": {},
     "output_type": "execute_result"
    }
   ],
   "source": [
    "dir(YouTube)\n",
    "link = \"https://www.youtube.com/watch?v=IHQr0HCIN2w\""
   ]
  },
  {
   "cell_type": "code",
   "execution_count": 31,
   "metadata": {},
   "outputs": [],
   "source": [
    "def get_mp4_from_youtube_link(link):\n",
    "    youtube_object = YouTube(link)\n",
    "    print(youtube_object)\n",
    "    youtube_object.title\n",
    "    youtube_object.thumbnail_url\n",
    "    #yt.streams.filter(file_extension='mp4')\n",
    "    #save_video_path = \"G:/temp/youtube-videos/\"\n",
    "    output_file_name = youtube_object.title + \".mp4\"\n",
    "    #download in local file system\n",
    "    youtube_object.streams.filter(progressive=True, file_extension='mp4').order_by('resolution').desc().first().download(filename = output_file_name)\n",
    "    return output_file_name\n",
    "    \n",
    "\n",
    "#! consider temp file https://www.geeksforgeeks.org/python-tempfile-module/"
   ]
  },
  {
   "cell_type": "code",
   "execution_count": 45,
   "metadata": {},
   "outputs": [
    {
     "name": "stdout",
     "output_type": "stream",
     "text": [
      "<pytube.__main__.YouTube object: videoId=IHQr0HCIN2w>\n"
     ]
    }
   ],
   "source": [
    "output_file_name = get_mp4_from_youtube_link(link)\n",
    "\n",
    "def does_file_exist(output_file_name):\n",
    "    return os.path.isfile(output_file_name)\n",
    "\n"
   ]
  },
  {
   "cell_type": "code",
   "execution_count": 52,
   "metadata": {},
   "outputs": [],
   "source": [
    "def get_audio_from_youtube_link(link):\n",
    "    youtube_object = YouTube(link)\n",
    "    print(youtube_object)\n",
    "    youtube_object.title\n",
    "    youtube_object.thumbnail_url\n",
    "    #download in local file system\n",
    "    youtube_object.streams.filter(only_audio=True).first().download() \n",
    "    output_file_name = youtube_object.title + \".\" + \"mp4\"\n",
    "    #youtube_object.streams.filter(progressive=True, file_extension=extension).order_by('resolution').desc().first().download(filename = output_file_name)\n",
    "    return output_file_name\n",
    "    \n",
    "\n",
    "#! consider temp file https://www.geeksforgeeks.org/python-tempfile-module/"
   ]
  },
  {
   "cell_type": "code",
   "execution_count": 48,
   "metadata": {},
   "outputs": [
    {
     "name": "stdout",
     "output_type": "stream",
     "text": [
      "[<Stream: itag=\"18\" mime_type=\"video/mp4\" res=\"360p\" fps=\"24fps\" vcodec=\"avc1.42001E\" acodec=\"mp4a.40.2\" progressive=\"True\" type=\"video\">, <Stream: itag=\"22\" mime_type=\"video/mp4\" res=\"720p\" fps=\"24fps\" vcodec=\"avc1.64001F\" acodec=\"mp4a.40.2\" progressive=\"True\" type=\"video\">, <Stream: itag=\"137\" mime_type=\"video/mp4\" res=\"1080p\" fps=\"24fps\" vcodec=\"avc1.640028\" progressive=\"False\" type=\"video\">, <Stream: itag=\"248\" mime_type=\"video/webm\" res=\"1080p\" fps=\"24fps\" vcodec=\"vp9\" progressive=\"False\" type=\"video\">, <Stream: itag=\"136\" mime_type=\"video/mp4\" res=\"720p\" fps=\"24fps\" vcodec=\"avc1.4d401f\" progressive=\"False\" type=\"video\">, <Stream: itag=\"247\" mime_type=\"video/webm\" res=\"720p\" fps=\"24fps\" vcodec=\"vp9\" progressive=\"False\" type=\"video\">, <Stream: itag=\"135\" mime_type=\"video/mp4\" res=\"480p\" fps=\"24fps\" vcodec=\"avc1.4d401e\" progressive=\"False\" type=\"video\">, <Stream: itag=\"244\" mime_type=\"video/webm\" res=\"480p\" fps=\"24fps\" vcodec=\"vp9\" progressive=\"False\" type=\"video\">, <Stream: itag=\"134\" mime_type=\"video/mp4\" res=\"360p\" fps=\"24fps\" vcodec=\"avc1.4d401e\" progressive=\"False\" type=\"video\">, <Stream: itag=\"243\" mime_type=\"video/webm\" res=\"360p\" fps=\"24fps\" vcodec=\"vp9\" progressive=\"False\" type=\"video\">, <Stream: itag=\"133\" mime_type=\"video/mp4\" res=\"240p\" fps=\"24fps\" vcodec=\"avc1.4d4015\" progressive=\"False\" type=\"video\">, <Stream: itag=\"242\" mime_type=\"video/webm\" res=\"240p\" fps=\"24fps\" vcodec=\"vp9\" progressive=\"False\" type=\"video\">, <Stream: itag=\"160\" mime_type=\"video/mp4\" res=\"144p\" fps=\"24fps\" vcodec=\"avc1.4d400c\" progressive=\"False\" type=\"video\">, <Stream: itag=\"278\" mime_type=\"video/webm\" res=\"144p\" fps=\"24fps\" vcodec=\"vp9\" progressive=\"False\" type=\"video\">, <Stream: itag=\"139\" mime_type=\"audio/mp4\" abr=\"48kbps\" acodec=\"mp4a.40.5\" progressive=\"False\" type=\"audio\">, <Stream: itag=\"140\" mime_type=\"audio/mp4\" abr=\"128kbps\" acodec=\"mp4a.40.2\" progressive=\"False\" type=\"audio\">, <Stream: itag=\"249\" mime_type=\"audio/webm\" abr=\"50kbps\" acodec=\"opus\" progressive=\"False\" type=\"audio\">, <Stream: itag=\"250\" mime_type=\"audio/webm\" abr=\"70kbps\" acodec=\"opus\" progressive=\"False\" type=\"audio\">, <Stream: itag=\"251\" mime_type=\"audio/webm\" abr=\"160kbps\" acodec=\"opus\" progressive=\"False\" type=\"audio\">]\n"
     ]
    }
   ],
   "source": []
  },
  {
   "cell_type": "code",
   "execution_count": 53,
   "metadata": {},
   "outputs": [
    {
     "name": "stdout",
     "output_type": "stream",
     "text": [
      "<pytube.__main__.YouTube object: videoId=IHQr0HCIN2w>\n"
     ]
    },
    {
     "data": {
      "text/plain": [
       "True"
      ]
     },
     "execution_count": 53,
     "metadata": {},
     "output_type": "execute_result"
    }
   ],
   "source": [
    "output_file_name = get_audio_from_youtube_link(link)\n",
    "does_file_exist(output_file_name)"
   ]
  },
  {
   "cell_type": "code",
   "execution_count": 58,
   "metadata": {},
   "outputs": [],
   "source": [
    "def segment_and_calculate_volume(audio_file, segment_length_ms):\n",
    "    # Load the audio file\n",
    "    audio = AudioSegment.from_file(audio_file)\n",
    "\n",
    "    # Calculate the total number of segments\n",
    "    num_segments = len(audio) // segment_length_ms\n",
    "\n",
    "    # Initialize a list to store the speech volumes of each segment\n",
    "    segment_volumes = []\n",
    "\n",
    "    # Iterate over the audio and segment it\n",
    "    for i in range(num_segments):\n",
    "        start_time = i * segment_length_ms\n",
    "        end_time = (i + 1) * segment_length_ms\n",
    "        segment = audio[start_time:end_time]\n",
    "\n",
    "        # Extract just the speech portion (assuming it's in a certain range of frequencies)\n",
    "        speech_segment = segment.low_pass_filter(3000)\n",
    "\n",
    "        # Calculate the average volume level in decibels (dB)\n",
    "        speech_volume = speech_segment.dBFS\n",
    "\n",
    "        segment_volumes.append(speech_volume)\n",
    "\n",
    "    return segment_volumes\n"
   ]
  },
  {
   "cell_type": "code",
   "execution_count": 59,
   "metadata": {},
   "outputs": [
    {
     "name": "stdout",
     "output_type": "stream",
     "text": [
      "Speech volumes of each segment (dB): [-14.62378704787268, -21.070028795119118, -24.692880131321022, -18.527888078147477, -19.445026986441423, -13.681842990353008, -17.680123318930917, -34.37751203498576, -32.422677445505585, -23.319562714906642, -31.548616749670153, -32.30165612606495, -37.09168913911697, -32.579184195744716, -10.828902761246065, -17.741220098188123, -23.017978792114917, -17.839877737795685, -22.26721168775242, -31.896098671058603, -27.97020576817924, -23.304038332511098, -21.62400965126485, -20.86264777285752, -23.448708756179006, -21.212101499024154, -28.489737167279724, -25.959319814916235, -20.039319565109217, -20.208713897512215, -22.357150018432023, -23.436888537110917, -20.11957165714339, -20.47336318751104, -22.490296557126776, -21.03711065545435, -27.58092973651456, -17.42613768899598, -14.002757828707175, -20.645814504854766, -22.37455312911889, -20.434262653657562, -21.791795797637548, -20.540804921130395, -23.307916827613752, -25.5380409455678, -22.969339179637338, -21.437481104189207, -22.219166344020636, -25.954057233938485, -24.99378036484215, -32.2363483775096, -30.457928342551646, -22.522132474152798, -35.32974147407113, -20.697362962610978, -17.467626152364275, -28.631782681862894, -18.756865151943643, -18.20289777637217, -23.872889022043573, -25.184268035075895, -23.480308207631552, -28.18518075392605, -18.89347132329939, -23.619923676175738, -31.061611985793935, -19.25320169533872, -20.225020328405456, -23.010478023394842, -26.496762742922257, -26.939049028733702, -17.1812843180206, -21.588927985796428, -18.940270410856648, -23.910229899588185, -27.792869536403817, -27.708759705756272, -22.872869529046042, -24.450592707194232, -21.860485171770264, -21.788538385396837, -20.85386971285011, -18.269970616523924, -20.398111948265388, -21.33487230109276, -24.095132452327142, -17.34960953193492, -25.807984776433383, -26.270137431161352, -23.57980402222377, -17.509313738362586, -17.587268397132902, -21.19687644755702, -18.27431573399226, -31.548616749670153, -18.761460860854065, -19.006215659798567, -18.159898234900986, -18.483253398024374, -21.847359533249737, -24.419674175962495, -44.91873981483603, -19.380613362490525, -20.691620225451, -20.35934795184695, -29.193789405439663, -22.5754530199776, -22.419965082670032, -33.569863958003346, -24.288398785914733, -20.370405737730056, -20.3070148608799, -18.21799804776913, -21.322516837219823, -21.400028413873358, -21.344150446505576, -16.76781515135113, -24.00218916664859, -25.73585953701565, -21.443738950020457, -19.600584338070888, -18.377056786665154, -23.19230878149564, -21.09404786231042, -15.281876704686486, -19.39790855451306, -30.431460400370135, -27.081638654494856, -26.352364832616296, -24.517219648342422, -18.954359448232974, -18.886473157508124, -21.421856186073803, -19.965080740194875, -20.3565857035686, -22.85443988148245, -25.12668181549303, -27.683042767241894, -22.675869047478617, -26.413163544755864, -23.238367517639116, -25.169835647975717, -27.956944865392668, -19.666656374218277, -26.798762431925404, -19.3117749297555, -14.250788910813561, -13.579984424791267, -18.75456820901394, -14.017388378987988, -17.792464433480134, -19.608182434171148, -19.904569981555156, -19.432602596341205, -19.631016683262462, -19.802918500029577, -22.876560155673932, -23.765908451005725, -22.161180609779723, -17.73509104491389, -17.72284589771938, -17.238959759935703, -14.012065327105091, -14.151536059127716, -17.27956165521351, -18.800622874907155, -18.291717972997567, -18.733923010665663, -18.269970616523924, -18.826057416179903, -20.42034072466638, -17.806867191125004, -22.076604579929754, -31.17602711509029, -28.117427761106622, -36.31224418184944, -33.865637111834005, -41.1816780366135, -38.532364187310215, -25.083741323344487, -21.50656663543828, -24.124915105786204, -19.920314800920302, -21.390690420171886, -19.346125950497445, -18.541323331619804, -18.50554206726807, -19.641184538843326, -21.840804144532488, -20.874365669593335, -38.117110514689955, -22.147592981450646, -28.52503136309138, -31.5988533827001, -38.736214499832904, -36.9973788788353, -35.82348130717857, -38.224477637504954, -36.20883951252764, -37.499369959785916, -30.094521391358896, -24.508306471943996, -9.650179943577285, -6.920212719615536, -6.221714606774253, -6.091931392896495, -12.94434133074506, -25.20354859712824, -34.489229197418034, -47.44870269411245, -48.581802085699394, -48.581802085699394, -48.164799306236986, -46.84527333094888, -46.61517008284237, -46.5585842824651, -29.632484820128152, -30.8003625290091, -29.86868390283995, -20.116884606963236, -21.519186891400683, -23.50011640239199, -27.28773363211935, -20.41755901459039, -19.241048496716754, -20.945006977742104, -26.86277932875527, -36.86704154048001, -21.07302754869217, -20.100779738990816, -42.59687322722811, -42.110336232568464, -25.959319814916235, -21.462539584282865, -19.891471065427517, -18.359482901786805, -24.279717236328363, -20.974611265562384, -23.257630975608183, -19.115653131433206, -21.982846957996706, -19.42267586424581, -19.656458674616534, -29.16328581083006, -27.950321998401524, -38.09579543739675, -27.33694560307249, -28.849303806635746, -37.20623000296671, -24.371309188423417, -18.478802519301272, -10.520002345860522, -24.340671097968464, -38.75916270244985, -46.44650673210513, -29.87694437862951, -27.950321998401524, -27.74747844582005, -31.282248323276, -32.03272165152002, -34.98074175694637, -26.892034626328165, -21.999515337009644, -23.951908912564974, -24.00639235552232, -18.61107181644536, -20.1303281781937, -19.04649949243347, -18.900475132014904, -20.977577251467274, -15.2266208146861, -28.71090934585994, -20.08738178841199, -20.792670438567995, -23.20763457221734, -27.40507057691072, -36.26038797028385, -37.38092417473297, -21.534988041179627, -19.93608821258813, -26.2429003764247, -22.60402505112996, -21.443738950020457, -19.67686606053991, -17.359383235720838, -15.808744192371218, -11.166434745658096, -12.766180903497936, -14.52020500785077, -15.343687245819543, -14.504703294314771, -14.886071722894654, -14.936236674242068, -14.850834799768922, -15.297288152374183, -15.108092139878144, -15.291120291551849, -16.95433764852901, -37.42022690983759, -54.60240199897902, -76.32959861247397]\n"
     ]
    }
   ],
   "source": [
    "# Example usage\n",
    "audio_file = output_file_name #path to the audio file\n",
    "segment_length_ms = 1000  # Length of each segment in milliseconds (adjust as needed)\n",
    "segment_volumes = segment_and_calculate_volume(audio_file, segment_length_ms)\n",
    "print(\"Speech volumes of each segment (dB):\", segment_volumes)"
   ]
  },
  {
   "cell_type": "code",
   "execution_count": 54,
   "metadata": {},
   "outputs": [],
   "source": [
    "\n",
    "def calculate_speech_volume(audio_file):\n",
    "    \"average audio volume\"\n",
    "    # Load the audio file\n",
    "    audio = AudioSegment.from_file(audio_file)\n",
    "\n",
    "    # Extract just the speech portion (assuming it's in a certain range of frequencies)\n",
    "    speech = audio.low_pass_filter(3000)\n",
    "\n",
    "    # Calculate the average volume level in decibels (dB)\n",
    "    speech_volume = speech.dBFS\n",
    "\n",
    "    return speech_volume\n"
   ]
  },
  {
   "cell_type": "code",
   "execution_count": 57,
   "metadata": {},
   "outputs": [
    {
     "name": "stdout",
     "output_type": "stream",
     "text": [
      "Speech volume (dB): -19.250769694864182\n"
     ]
    }
   ],
   "source": [
    "# Example usage\n",
    "audio_file = output_file_name\n",
    "speech_volume = calculate_speech_volume(audio_file)\n",
    "print(\"Speech volume (dB):\", speech_volume)\n"
   ]
  },
  {
   "cell_type": "code",
   "execution_count": 35,
   "metadata": {},
   "outputs": [
    {
     "name": "stdout",
     "output_type": "stream",
     "text": [
      "True\n"
     ]
    }
   ],
   "source": [
    "\n",
    "# url = \"https://api.hume.ai/v0/batch/jobs\"\n",
    "\n",
    "# payload = \"{\\\"models\\\":{\\\"face\\\":{\\\"fps_pred\\\":3,\\\"prob_threshold\\\":0.99,\\\"identify_faces\\\":false,\\\"min_face_size\\\":60,\\\"save_faces\\\":false},\\\"prosody\\\":{\\\"granularity\\\":\\\"utterance\\\",\\\"window\\\":{\\\"length\\\":4,\\\"step\\\":1}},\\\"language\\\":{\\\"granularity\\\":\\\"word\\\"}},\\\"transcription\\\":{\\\"language\\\":null,\\\"identify_speakers\\\":false,\\\"confidence_threshold\\\":0.5},\\\"notify\\\":false}\"\n",
    "# headers = {\n",
    "#     \"accept\": \"application/json; charset=utf-8\",\n",
    "#     \"content-type\": \"application/json; charset=utf-8\",\n",
    "#     \"X-Hume-Api-Key\": \"YOUR API KEY HERE\"\n",
    "# }\n",
    "\n",
    "# response = requests.post(url, data=payload, headers=headers)\n",
    "\n",
    "# print(response.text)"
   ]
  },
  {
   "cell_type": "markdown",
   "metadata": {},
   "source": [
    "1. get youtube mp4\n",
    "2. get subtitles - enhanced input\n",
    "3. convert youtube to anime\n",
    "4. maybe black and white it\n",
    "5. get screenshots every 5 seconds + subtitle for timestamp\n",
    "6. put subtitles onto screenshot, in speechbubble? to the right person? (can hard code it, like stage it - switch sides whenever person speaking)\n",
    "7. format into comic panels\n",
    "8. compile publish as pdf\n",
    "\n",
    "video - popular"
   ]
  },
  {
   "cell_type": "markdown",
   "metadata": {},
   "source": []
  }
 ],
 "metadata": {
  "kernelspec": {
   "display_name": "subtext-treehack",
   "language": "python",
   "name": "python3"
  },
  "language_info": {
   "codemirror_mode": {
    "name": "ipython",
    "version": 3
   },
   "file_extension": ".py",
   "mimetype": "text/x-python",
   "name": "python",
   "nbconvert_exporter": "python",
   "pygments_lexer": "ipython3",
   "version": "3.9.18"
  }
 },
 "nbformat": 4,
 "nbformat_minor": 2
}
